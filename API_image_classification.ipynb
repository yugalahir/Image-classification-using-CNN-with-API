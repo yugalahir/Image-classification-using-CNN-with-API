{
 "cells": [
  {
   "cell_type": "code",
   "execution_count": 46,
   "metadata": {},
   "outputs": [],
   "source": [
    "# import the necessary packages\n",
    "from keras.models import load_model\n",
    "import numpy as np\n",
    "import flask\n",
    "import io\n",
    "import cv2\n",
    "import numpy as np\n",
    "from keras.models import load_model\n",
    "import base64\n",
    "import json\n",
    "import os\n",
    "from keras import preprocessing\n",
    "# initialize our Flask application and the Keras model\n",
    "app = flask.Flask(__name__)\n",
    "model = None"
   ]
  },
  {
   "cell_type": "code",
   "execution_count": 47,
   "metadata": {},
   "outputs": [],
   "source": [
    "def load_model_pre():\n",
    "    # load the pre-trained Keras model (here we are using a model\n",
    "    global model\n",
    "    model = load_model('aadhar_pan_cnn_model.h5')"
   ]
  },
  {
   "cell_type": "code",
   "execution_count": 48,
   "metadata": {},
   "outputs": [],
   "source": [
    "@app.route(\"/predicts\", methods=[\"POST\"])\n",
    "def predicts():\n",
    "    # initialize the data dictionary that will be returned from the\n",
    "    # view\n",
    "    data = {\"success\": False}\n",
    "    # ensure an image was properly uploaded to our endpoint\n",
    "    #print(flask.request.json.get(\"image\"))\n",
    "    if flask.request.method == \"POST\":\n",
    "        if flask.request.json.get(\"image\"):\n",
    "            class_names = class_names = ['AADHAR', 'PAN','N/A']\n",
    "            width = 100\n",
    "            height = 100\n",
    "            #get image base64\n",
    "            img64 = flask.request.json.get(\"image\")\n",
    "            #convert image from basecode64\n",
    "            imgdata = base64.b64decode(img64)\n",
    "            #saving image on server in pre_image folder\n",
    "            filename = './pre_image/pre.jpg'\n",
    "            with open(filename, 'wb') as f:\n",
    "                 f.write(imgdata)\n",
    "            data[\"predictions\"] = []\n",
    "            #load image which is saved in pre_image folder\n",
    "            type_1 = preprocessing.image.load_img('./pre_image/pre.jpg',target_size=(100, 100))\n",
    "            #convert image in array dimensions for processing\n",
    "            type_1_X = np.expand_dims(type_1, axis=0)\n",
    "            #predict the image\n",
    "            predictions = model.predict(type_1_X)\n",
    "            r = {\"predict\": format(class_names[np.argmax(predictions)])}\n",
    "            data[\"predictions\"].append(r)\n",
    "            data[\"success\"] = 'sadsdsadas'\n",
    "            os.remove(\"pre_image/pre.jpg\")\n",
    "    return flask.jsonify(data)"
   ]
  },
  {
   "cell_type": "code",
   "execution_count": 49,
   "metadata": {},
   "outputs": [
    {
     "name": "stdout",
     "output_type": "stream",
     "text": [
      "* Loading Keras model and Flask starting server...please wait until server has fully started!!\n",
      " * Serving Flask app \"__main__\" (lazy loading)\n",
      " * Environment: production\n",
      "   WARNING: Do not use the development server in a production environment.\n",
      "   Use a production WSGI server instead.\n",
      " * Debug mode: off\n"
     ]
    },
    {
     "name": "stderr",
     "output_type": "stream",
     "text": [
      " * Running on http://127.0.0.1:5000/ (Press CTRL+C to quit)\n",
      "127.0.0.1 - - [12/Nov/2018 16:27:37] \"POST /predicts HTTP/1.1\" 200 -\n",
      "127.0.0.1 - - [12/Nov/2018 16:27:39] \"POST /predicts HTTP/1.1\" 200 -\n"
     ]
    }
   ],
   "source": [
    "if __name__ == \"__main__\":\n",
    "    print((\"* Loading Keras model and Flask starting server...\"\n",
    "        \"please wait until server has fully started!!\"))\n",
    "    load_model_pre()\n",
    "    app.run()"
   ]
  },
  {
   "cell_type": "code",
   "execution_count": null,
   "metadata": {},
   "outputs": [],
   "source": []
  }
 ],
 "metadata": {
  "kernelspec": {
   "display_name": "Python 3",
   "language": "python",
   "name": "python3"
  },
  "language_info": {
   "codemirror_mode": {
    "name": "ipython",
    "version": 2
   },
   "file_extension": ".py",
   "mimetype": "text/x-python",
   "name": "python",
   "nbconvert_exporter": "python",
   "pygments_lexer": "ipython2",
   "version": "2.7.14"
  }
 },
 "nbformat": 4,
 "nbformat_minor": 2
}
